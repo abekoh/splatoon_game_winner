{
 "cells": [
  {
   "cell_type": "code",
   "execution_count": 1,
   "metadata": {},
   "outputs": [],
   "source": [
    "import pandas as pd\n",
    "import numpy as np\n",
    "from sklearn.preprocessing import LabelEncoder"
   ]
  },
  {
   "cell_type": "code",
   "execution_count": 2,
   "metadata": {},
   "outputs": [],
   "source": [
    "WEAPON_COLUMNS = ['A1-weapon', 'A2-weapon', 'A3-weapon', 'A4-weapon', 'B1-weapon', 'B2-weapon', 'B3-weapon', 'B4-weapon']\n",
    "RANK_COLUMNS = ['A1-rank', 'A2-rank', 'A3-rank', 'A4-rank', 'B1-rank', 'B2-rank', 'B3-rank', 'B4-rank']\n",
    "LEVEL_COLUMNS = ['A1-level', 'A2-level', 'A3-level', 'A4-level', 'B1-level', 'B2-level', 'B3-level', 'B4-level']"
   ]
  },
  {
   "cell_type": "code",
   "execution_count": 3,
   "metadata": {},
   "outputs": [],
   "source": [
    "train_data = pd.read_csv(\"data/train_data.csv\", index_col=\"id\")\n",
    "test_data = pd.read_csv(\"data/test_data.csv\", index_col=\"id\")"
   ]
  },
  {
   "cell_type": "code",
   "execution_count": 4,
   "metadata": {},
   "outputs": [
    {
     "data": {
      "text/html": [
       "<div>\n",
       "<style scoped>\n",
       "    .dataframe tbody tr th:only-of-type {\n",
       "        vertical-align: middle;\n",
       "    }\n",
       "\n",
       "    .dataframe tbody tr th {\n",
       "        vertical-align: top;\n",
       "    }\n",
       "\n",
       "    .dataframe thead th {\n",
       "        text-align: right;\n",
       "    }\n",
       "</style>\n",
       "<table border=\"1\" class=\"dataframe\">\n",
       "  <thead>\n",
       "    <tr style=\"text-align: right;\">\n",
       "      <th></th>\n",
       "      <th>period</th>\n",
       "      <th>game-ver</th>\n",
       "      <th>lobby-mode</th>\n",
       "      <th>lobby</th>\n",
       "      <th>mode</th>\n",
       "      <th>stage</th>\n",
       "      <th>A1-weapon</th>\n",
       "      <th>A1-rank</th>\n",
       "      <th>A1-level</th>\n",
       "      <th>A2-weapon</th>\n",
       "      <th>...</th>\n",
       "      <th>B2-weapon</th>\n",
       "      <th>B2-rank</th>\n",
       "      <th>B2-level</th>\n",
       "      <th>B3-weapon</th>\n",
       "      <th>B3-rank</th>\n",
       "      <th>B3-level</th>\n",
       "      <th>B4-weapon</th>\n",
       "      <th>B4-rank</th>\n",
       "      <th>B4-level</th>\n",
       "      <th>y</th>\n",
       "    </tr>\n",
       "    <tr>\n",
       "      <th>id</th>\n",
       "      <th></th>\n",
       "      <th></th>\n",
       "      <th></th>\n",
       "      <th></th>\n",
       "      <th></th>\n",
       "      <th></th>\n",
       "      <th></th>\n",
       "      <th></th>\n",
       "      <th></th>\n",
       "      <th></th>\n",
       "      <th></th>\n",
       "      <th></th>\n",
       "      <th></th>\n",
       "      <th></th>\n",
       "      <th></th>\n",
       "      <th></th>\n",
       "      <th></th>\n",
       "      <th></th>\n",
       "      <th></th>\n",
       "      <th></th>\n",
       "      <th></th>\n",
       "    </tr>\n",
       "  </thead>\n",
       "  <tbody>\n",
       "    <tr>\n",
       "      <th>1</th>\n",
       "      <td>2019-10-15T20:00:00+00:00</td>\n",
       "      <td>5.0.1</td>\n",
       "      <td>regular</td>\n",
       "      <td>standard</td>\n",
       "      <td>nawabari</td>\n",
       "      <td>sumeshi</td>\n",
       "      <td>sshooter_becchu</td>\n",
       "      <td>NaN</td>\n",
       "      <td>139</td>\n",
       "      <td>soytuber_custom</td>\n",
       "      <td>...</td>\n",
       "      <td>hokusai_becchu</td>\n",
       "      <td>NaN</td>\n",
       "      <td>26.0</td>\n",
       "      <td>herocharger_replica</td>\n",
       "      <td>NaN</td>\n",
       "      <td>68.0</td>\n",
       "      <td>sharp_neo</td>\n",
       "      <td>NaN</td>\n",
       "      <td>31.0</td>\n",
       "      <td>1</td>\n",
       "    </tr>\n",
       "    <tr>\n",
       "      <th>2</th>\n",
       "      <td>2019-12-14T04:00:00+00:00</td>\n",
       "      <td>5.0.1</td>\n",
       "      <td>regular</td>\n",
       "      <td>standard</td>\n",
       "      <td>nawabari</td>\n",
       "      <td>arowana</td>\n",
       "      <td>parashelter_sorella</td>\n",
       "      <td>NaN</td>\n",
       "      <td>198</td>\n",
       "      <td>jetsweeper</td>\n",
       "      <td>...</td>\n",
       "      <td>squiclean_b</td>\n",
       "      <td>NaN</td>\n",
       "      <td>118.0</td>\n",
       "      <td>campingshelter</td>\n",
       "      <td>NaN</td>\n",
       "      <td>168.0</td>\n",
       "      <td>sputtery_clear</td>\n",
       "      <td>NaN</td>\n",
       "      <td>151.0</td>\n",
       "      <td>0</td>\n",
       "    </tr>\n",
       "    <tr>\n",
       "      <th>3</th>\n",
       "      <td>2019-12-25T14:00:00+00:00</td>\n",
       "      <td>5.0.1</td>\n",
       "      <td>gachi</td>\n",
       "      <td>standard</td>\n",
       "      <td>hoko</td>\n",
       "      <td>ama</td>\n",
       "      <td>nzap89</td>\n",
       "      <td>a-</td>\n",
       "      <td>114</td>\n",
       "      <td>quadhopper_black</td>\n",
       "      <td>...</td>\n",
       "      <td>nzap85</td>\n",
       "      <td>a+</td>\n",
       "      <td>163.0</td>\n",
       "      <td>prime_becchu</td>\n",
       "      <td>a-</td>\n",
       "      <td>160.0</td>\n",
       "      <td>dualsweeper_custom</td>\n",
       "      <td>a</td>\n",
       "      <td>126.0</td>\n",
       "      <td>0</td>\n",
       "    </tr>\n",
       "    <tr>\n",
       "      <th>4</th>\n",
       "      <td>2019-11-11T14:00:00+00:00</td>\n",
       "      <td>5.0.1</td>\n",
       "      <td>regular</td>\n",
       "      <td>standard</td>\n",
       "      <td>nawabari</td>\n",
       "      <td>engawa</td>\n",
       "      <td>bamboo14mk1</td>\n",
       "      <td>NaN</td>\n",
       "      <td>336</td>\n",
       "      <td>splatroller_becchu</td>\n",
       "      <td>...</td>\n",
       "      <td>liter4k</td>\n",
       "      <td>NaN</td>\n",
       "      <td>189.0</td>\n",
       "      <td>promodeler_mg</td>\n",
       "      <td>NaN</td>\n",
       "      <td>194.0</td>\n",
       "      <td>hotblaster_custom</td>\n",
       "      <td>NaN</td>\n",
       "      <td>391.0</td>\n",
       "      <td>0</td>\n",
       "    </tr>\n",
       "    <tr>\n",
       "      <th>5</th>\n",
       "      <td>2019-12-14T06:00:00+00:00</td>\n",
       "      <td>5.0.1</td>\n",
       "      <td>gachi</td>\n",
       "      <td>standard</td>\n",
       "      <td>hoko</td>\n",
       "      <td>chozame</td>\n",
       "      <td>bold_7</td>\n",
       "      <td>x</td>\n",
       "      <td>299</td>\n",
       "      <td>hissen_hue</td>\n",
       "      <td>...</td>\n",
       "      <td>sputtery_hue</td>\n",
       "      <td>x</td>\n",
       "      <td>45.0</td>\n",
       "      <td>bucketslosher_soda</td>\n",
       "      <td>x</td>\n",
       "      <td>246.0</td>\n",
       "      <td>wakaba</td>\n",
       "      <td>x</td>\n",
       "      <td>160.0</td>\n",
       "      <td>1</td>\n",
       "    </tr>\n",
       "    <tr>\n",
       "      <th>...</th>\n",
       "      <td>...</td>\n",
       "      <td>...</td>\n",
       "      <td>...</td>\n",
       "      <td>...</td>\n",
       "      <td>...</td>\n",
       "      <td>...</td>\n",
       "      <td>...</td>\n",
       "      <td>...</td>\n",
       "      <td>...</td>\n",
       "      <td>...</td>\n",
       "      <td>...</td>\n",
       "      <td>...</td>\n",
       "      <td>...</td>\n",
       "      <td>...</td>\n",
       "      <td>...</td>\n",
       "      <td>...</td>\n",
       "      <td>...</td>\n",
       "      <td>...</td>\n",
       "      <td>...</td>\n",
       "      <td>...</td>\n",
       "      <td>...</td>\n",
       "    </tr>\n",
       "    <tr>\n",
       "      <th>66121</th>\n",
       "      <td>2019-10-11T10:00:00+00:00</td>\n",
       "      <td>5.0.1</td>\n",
       "      <td>gachi</td>\n",
       "      <td>standard</td>\n",
       "      <td>area</td>\n",
       "      <td>devon</td>\n",
       "      <td>hokusai_becchu</td>\n",
       "      <td>a</td>\n",
       "      <td>66</td>\n",
       "      <td>soytuber</td>\n",
       "      <td>...</td>\n",
       "      <td>nzap85</td>\n",
       "      <td>a+</td>\n",
       "      <td>272.0</td>\n",
       "      <td>splatcharger</td>\n",
       "      <td>a</td>\n",
       "      <td>38.0</td>\n",
       "      <td>wakaba</td>\n",
       "      <td>a+</td>\n",
       "      <td>283.0</td>\n",
       "      <td>1</td>\n",
       "    </tr>\n",
       "    <tr>\n",
       "      <th>66122</th>\n",
       "      <td>2019-12-04T00:00:00+00:00</td>\n",
       "      <td>5.0.1</td>\n",
       "      <td>gachi</td>\n",
       "      <td>standard</td>\n",
       "      <td>asari</td>\n",
       "      <td>otoro</td>\n",
       "      <td>hokusai_becchu</td>\n",
       "      <td>s+</td>\n",
       "      <td>204</td>\n",
       "      <td>prime_becchu</td>\n",
       "      <td>...</td>\n",
       "      <td>prime_becchu</td>\n",
       "      <td>s+</td>\n",
       "      <td>167.0</td>\n",
       "      <td>pablo</td>\n",
       "      <td>s+</td>\n",
       "      <td>188.0</td>\n",
       "      <td>nzap89</td>\n",
       "      <td>s+</td>\n",
       "      <td>170.0</td>\n",
       "      <td>1</td>\n",
       "    </tr>\n",
       "    <tr>\n",
       "      <th>66123</th>\n",
       "      <td>2019-10-22T00:00:00+00:00</td>\n",
       "      <td>5.0.1</td>\n",
       "      <td>gachi</td>\n",
       "      <td>standard</td>\n",
       "      <td>hoko</td>\n",
       "      <td>bbass</td>\n",
       "      <td>prime_collabo</td>\n",
       "      <td>a+</td>\n",
       "      <td>116</td>\n",
       "      <td>promodeler_rg</td>\n",
       "      <td>...</td>\n",
       "      <td>bold_neo</td>\n",
       "      <td>a+</td>\n",
       "      <td>70.0</td>\n",
       "      <td>nzap85</td>\n",
       "      <td>a+</td>\n",
       "      <td>191.0</td>\n",
       "      <td>hissen_hue</td>\n",
       "      <td>a+</td>\n",
       "      <td>139.0</td>\n",
       "      <td>1</td>\n",
       "    </tr>\n",
       "    <tr>\n",
       "      <th>66124</th>\n",
       "      <td>2019-12-11T00:00:00+00:00</td>\n",
       "      <td>5.0.1</td>\n",
       "      <td>gachi</td>\n",
       "      <td>standard</td>\n",
       "      <td>area</td>\n",
       "      <td>fujitsubo</td>\n",
       "      <td>heroroller_replica</td>\n",
       "      <td>s+</td>\n",
       "      <td>210</td>\n",
       "      <td>sharp_neo</td>\n",
       "      <td>...</td>\n",
       "      <td>heroroller_replica</td>\n",
       "      <td>s+</td>\n",
       "      <td>395.0</td>\n",
       "      <td>rapid_elite_deco</td>\n",
       "      <td>s+</td>\n",
       "      <td>223.0</td>\n",
       "      <td>sharp_neo</td>\n",
       "      <td>s+</td>\n",
       "      <td>194.0</td>\n",
       "      <td>0</td>\n",
       "    </tr>\n",
       "    <tr>\n",
       "      <th>66125</th>\n",
       "      <td>2019-12-13T18:00:00+00:00</td>\n",
       "      <td>5.0.1</td>\n",
       "      <td>gachi</td>\n",
       "      <td>standard</td>\n",
       "      <td>asari</td>\n",
       "      <td>sumeshi</td>\n",
       "      <td>splatroller</td>\n",
       "      <td>s</td>\n",
       "      <td>132</td>\n",
       "      <td>nzap85</td>\n",
       "      <td>...</td>\n",
       "      <td>nzap85</td>\n",
       "      <td>s</td>\n",
       "      <td>124.0</td>\n",
       "      <td>l3reelgun</td>\n",
       "      <td>s</td>\n",
       "      <td>103.0</td>\n",
       "      <td>hokusai_becchu</td>\n",
       "      <td>s</td>\n",
       "      <td>35.0</td>\n",
       "      <td>0</td>\n",
       "    </tr>\n",
       "  </tbody>\n",
       "</table>\n",
       "<p>66125 rows × 31 columns</p>\n",
       "</div>"
      ],
      "text/plain": [
       "                          period game-ver lobby-mode     lobby      mode  \\\n",
       "id                                                                         \n",
       "1      2019-10-15T20:00:00+00:00    5.0.1    regular  standard  nawabari   \n",
       "2      2019-12-14T04:00:00+00:00    5.0.1    regular  standard  nawabari   \n",
       "3      2019-12-25T14:00:00+00:00    5.0.1      gachi  standard      hoko   \n",
       "4      2019-11-11T14:00:00+00:00    5.0.1    regular  standard  nawabari   \n",
       "5      2019-12-14T06:00:00+00:00    5.0.1      gachi  standard      hoko   \n",
       "...                          ...      ...        ...       ...       ...   \n",
       "66121  2019-10-11T10:00:00+00:00    5.0.1      gachi  standard      area   \n",
       "66122  2019-12-04T00:00:00+00:00    5.0.1      gachi  standard     asari   \n",
       "66123  2019-10-22T00:00:00+00:00    5.0.1      gachi  standard      hoko   \n",
       "66124  2019-12-11T00:00:00+00:00    5.0.1      gachi  standard      area   \n",
       "66125  2019-12-13T18:00:00+00:00    5.0.1      gachi  standard     asari   \n",
       "\n",
       "           stage            A1-weapon A1-rank  A1-level           A2-weapon  \\\n",
       "id                                                                            \n",
       "1        sumeshi      sshooter_becchu     NaN       139     soytuber_custom   \n",
       "2        arowana  parashelter_sorella     NaN       198          jetsweeper   \n",
       "3            ama               nzap89      a-       114    quadhopper_black   \n",
       "4         engawa          bamboo14mk1     NaN       336  splatroller_becchu   \n",
       "5        chozame               bold_7       x       299          hissen_hue   \n",
       "...          ...                  ...     ...       ...                 ...   \n",
       "66121      devon       hokusai_becchu       a        66            soytuber   \n",
       "66122      otoro       hokusai_becchu      s+       204        prime_becchu   \n",
       "66123      bbass        prime_collabo      a+       116       promodeler_rg   \n",
       "66124  fujitsubo   heroroller_replica      s+       210           sharp_neo   \n",
       "66125    sumeshi          splatroller       s       132              nzap85   \n",
       "\n",
       "       ...           B2-weapon  B2-rank B2-level            B3-weapon  \\\n",
       "id     ...                                                              \n",
       "1      ...      hokusai_becchu      NaN     26.0  herocharger_replica   \n",
       "2      ...         squiclean_b      NaN    118.0       campingshelter   \n",
       "3      ...              nzap85       a+    163.0         prime_becchu   \n",
       "4      ...             liter4k      NaN    189.0        promodeler_mg   \n",
       "5      ...        sputtery_hue        x     45.0   bucketslosher_soda   \n",
       "...    ...                 ...      ...      ...                  ...   \n",
       "66121  ...              nzap85       a+    272.0         splatcharger   \n",
       "66122  ...        prime_becchu       s+    167.0                pablo   \n",
       "66123  ...            bold_neo       a+     70.0               nzap85   \n",
       "66124  ...  heroroller_replica       s+    395.0     rapid_elite_deco   \n",
       "66125  ...              nzap85        s    124.0            l3reelgun   \n",
       "\n",
       "       B3-rank B3-level           B4-weapon  B4-rank B4-level  y  \n",
       "id                                                                \n",
       "1          NaN     68.0           sharp_neo      NaN     31.0  1  \n",
       "2          NaN    168.0      sputtery_clear      NaN    151.0  0  \n",
       "3           a-    160.0  dualsweeper_custom        a    126.0  0  \n",
       "4          NaN    194.0   hotblaster_custom      NaN    391.0  0  \n",
       "5            x    246.0              wakaba        x    160.0  1  \n",
       "...        ...      ...                 ...      ...      ... ..  \n",
       "66121        a     38.0              wakaba       a+    283.0  1  \n",
       "66122       s+    188.0              nzap89       s+    170.0  1  \n",
       "66123       a+    191.0          hissen_hue       a+    139.0  1  \n",
       "66124       s+    223.0           sharp_neo       s+    194.0  0  \n",
       "66125        s    103.0      hokusai_becchu        s     35.0  0  \n",
       "\n",
       "[66125 rows x 31 columns]"
      ]
     },
     "execution_count": 4,
     "metadata": {},
     "output_type": "execute_result"
    }
   ],
   "source": [
    "train_data"
   ]
  },
  {
   "cell_type": "markdown",
   "metadata": {},
   "source": [
    "## 欠損値補完"
   ]
  },
  {
   "cell_type": "code",
   "execution_count": 5,
   "metadata": {},
   "outputs": [
    {
     "data": {
      "text/plain": [
       "id\n",
       "1        139\n",
       "2        198\n",
       "3        114\n",
       "4        336\n",
       "5        299\n",
       "        ... \n",
       "66121     66\n",
       "66122    204\n",
       "66123    116\n",
       "66124    210\n",
       "66125    132\n",
       "Name: A1-level, Length: 66125, dtype: int64"
      ]
     },
     "execution_count": 5,
     "metadata": {},
     "output_type": "execute_result"
    }
   ],
   "source": [
    "train_data['A1-level'].fillna(-1)"
   ]
  },
  {
   "cell_type": "code",
   "execution_count": 6,
   "metadata": {},
   "outputs": [],
   "source": [
    "def complete(data):\n",
    "    for col_name in WEAPON_COLUMNS:\n",
    "        data[col_name] = data[col_name].fillna('NULL')\n",
    "    for col_name in LEVEL_COLUMNS:\n",
    "        data[col_name] = data[col_name].fillna(-1)\n",
    "    for col_name in RANK_COLUMNS:\n",
    "        data[col_name] = data[col_name].fillna('n')"
   ]
  },
  {
   "cell_type": "code",
   "execution_count": 7,
   "metadata": {},
   "outputs": [],
   "source": [
    "complete(train_data)\n",
    "complete(test_data)"
   ]
  },
  {
   "cell_type": "markdown",
   "metadata": {},
   "source": [
    "## エンコーダー構築"
   ]
  },
  {
   "cell_type": "markdown",
   "metadata": {},
   "source": [
    "### Mode"
   ]
  },
  {
   "cell_type": "code",
   "execution_count": 8,
   "metadata": {},
   "outputs": [
    {
     "data": {
      "text/plain": [
       "LabelEncoder()"
      ]
     },
     "execution_count": 8,
     "metadata": {},
     "output_type": "execute_result"
    }
   ],
   "source": [
    "mode_encoder = LabelEncoder()\n",
    "mode_encoder.fit(list(train_data[\"mode\"].unique()))"
   ]
  },
  {
   "cell_type": "markdown",
   "metadata": {},
   "source": [
    "### Stage"
   ]
  },
  {
   "cell_type": "code",
   "execution_count": 9,
   "metadata": {},
   "outputs": [
    {
     "data": {
      "text/plain": [
       "array([20])"
      ]
     },
     "execution_count": 9,
     "metadata": {},
     "output_type": "execute_result"
    }
   ],
   "source": [
    "stage_encoder = LabelEncoder()\n",
    "stage_encoder.fit(list(train_data[\"stage\"].unique()))\n",
    "stage_encoder.transform(['sumeshi'])"
   ]
  },
  {
   "cell_type": "markdown",
   "metadata": {},
   "source": [
    "## Weapon\n",
    "全部で140種類？"
   ]
  },
  {
   "cell_type": "code",
   "execution_count": 10,
   "metadata": {},
   "outputs": [
    {
     "data": {
      "text/plain": [
       "LabelEncoder()"
      ]
     },
     "execution_count": 10,
     "metadata": {},
     "output_type": "execute_result"
    }
   ],
   "source": [
    "weapon_encoder = LabelEncoder()\n",
    "weapon_encoder.fit(list(pd.concat([train_data['A1-weapon'], train_data['A2-weapon'], train_data['A3-weapon'], train_data['A4-weapon'], train_data['B1-weapon'], train_data['B2-weapon'], train_data['B3-weapon'], train_data['B4-weapon']]).unique()))"
   ]
  },
  {
   "cell_type": "code",
   "execution_count": 11,
   "metadata": {},
   "outputs": [
    {
     "data": {
      "text/plain": [
       "array(['52gal', '52gal_becchu', '52gal_deco', '96gal', '96gal_deco',\n",
       "       'NULL', 'bamboo14mk1', 'bamboo14mk2', 'bamboo14mk3',\n",
       "       'barrelspinner', 'barrelspinner_deco', 'barrelspinner_remix',\n",
       "       'bold', 'bold_7', 'bold_neo', 'bottlegeyser', 'bottlegeyser_foil',\n",
       "       'bucketslosher', 'bucketslosher_deco', 'bucketslosher_soda',\n",
       "       'campingshelter', 'campingshelter_camo', 'campingshelter_sorella',\n",
       "       'carbon', 'carbon_deco', 'clashblaster', 'clashblaster_neo',\n",
       "       'dualsweeper', 'dualsweeper_custom', 'dynamo', 'dynamo_becchu',\n",
       "       'dynamo_tesla', 'explosher', 'explosher_custom', 'furo',\n",
       "       'furo_deco', 'h3reelgun', 'h3reelgun_cherry', 'h3reelgun_d',\n",
       "       'heroblaster_replica', 'herobrush_replica', 'herocharger_replica',\n",
       "       'heromaneuver_replica', 'heroroller_replica',\n",
       "       'heroshelter_replica', 'heroshooter_replica',\n",
       "       'heroslosher_replica', 'herospinner_replica', 'hissen',\n",
       "       'hissen_hue', 'hokusai', 'hokusai_becchu', 'hokusai_hue',\n",
       "       'hotblaster', 'hotblaster_custom', 'hydra', 'hydra_custom',\n",
       "       'jetsweeper', 'jetsweeper_custom', 'kelvin525', 'kelvin525_becchu',\n",
       "       'kelvin525_deco', 'kugelschreiber', 'kugelschreiber_hue',\n",
       "       'l3reelgun', 'l3reelgun_becchu', 'l3reelgun_d', 'liter4k',\n",
       "       'liter4k_custom', 'liter4k_scope', 'liter4k_scope_custom',\n",
       "       'longblaster', 'longblaster_custom', 'longblaster_necro',\n",
       "       'maneuver', 'maneuver_becchu', 'maneuver_collabo', 'momiji',\n",
       "       'nautilus47', 'nautilus79', 'nova', 'nova_becchu', 'nova_neo',\n",
       "       'nzap83', 'nzap85', 'nzap89', 'ochiba', 'octoshooter_replica',\n",
       "       'pablo', 'pablo_hue', 'pablo_permanent', 'parashelter',\n",
       "       'parashelter_sorella', 'prime', 'prime_becchu', 'prime_collabo',\n",
       "       'promodeler_mg', 'promodeler_pg', 'promodeler_rg',\n",
       "       'quadhopper_black', 'quadhopper_white', 'rapid', 'rapid_becchu',\n",
       "       'rapid_deco', 'rapid_elite', 'rapid_elite_deco', 'screwslosher',\n",
       "       'screwslosher_becchu', 'screwslosher_neo', 'sharp', 'sharp_neo',\n",
       "       'soytuber', 'soytuber_custom', 'splatcharger',\n",
       "       'splatcharger_becchu', 'splatcharger_collabo', 'splatroller',\n",
       "       'splatroller_becchu', 'splatroller_collabo', 'splatscope',\n",
       "       'splatscope_becchu', 'splatscope_collabo', 'splatspinner',\n",
       "       'splatspinner_becchu', 'splatspinner_collabo', 'sputtery',\n",
       "       'sputtery_clear', 'sputtery_hue', 'spygadget', 'spygadget_becchu',\n",
       "       'spygadget_sorella', 'squiclean_a', 'squiclean_b', 'squiclean_g',\n",
       "       'sshooter', 'sshooter_becchu', 'sshooter_collabo',\n",
       "       'variableroller', 'variableroller_foil', 'wakaba'], dtype='<U22')"
      ]
     },
     "execution_count": 11,
     "metadata": {},
     "output_type": "execute_result"
    }
   ],
   "source": [
    "weapon_encoder.classes_"
   ]
  },
  {
   "cell_type": "markdown",
   "metadata": {},
   "source": [
    "## Rank\n",
    "手動で決めてしまう"
   ]
  },
  {
   "cell_type": "code",
   "execution_count": 12,
   "metadata": {},
   "outputs": [],
   "source": [
    "# TODO: 感覚で数字つけておく\n",
    "rank_map = {'n': 0, 'c-': 1, 'c': 2, 'c+': 3, 'b-': 4, 'b': 5, 'b+': 6, 'a-': 10, 'a': 11, 'a+': 12, 's': 15, 's+': 18, 'x': 21}\n",
    "def encode_rank(rank):\n",
    "    try:\n",
    "        return rank_map[rank]\n",
    "    except KeyError:\n",
    "        return 0\n",
    "# Rankの合計\n",
    "def make_rank_data(data, labels):\n",
    "    result = data[data.columns.intersection(labels)]\n",
    "    result = result.applymap(encode_rank)\n",
    "    result = result.sum(axis=1)\n",
    "    return result"
   ]
  },
  {
   "cell_type": "markdown",
   "metadata": {},
   "source": [
    "## Level"
   ]
  },
  {
   "cell_type": "code",
   "execution_count": 13,
   "metadata": {},
   "outputs": [],
   "source": [
    "# Levelの合計つくる\n",
    "def make_level_data(data, labels):\n",
    "    result = data[data.columns.intersection(labels)]\n",
    "    result = result.sum(axis=1)\n",
    "    return result"
   ]
  },
  {
   "cell_type": "markdown",
   "metadata": {},
   "source": [
    "## データ作成\n",
    "まず、mode,stage,rank,levelだけでやる"
   ]
  },
  {
   "cell_type": "code",
   "execution_count": 14,
   "metadata": {},
   "outputs": [],
   "source": [
    "DROP_COLUMNS = ['period', 'game-ver', 'lobby', 'lobby-mode']"
   ]
  },
  {
   "cell_type": "code",
   "execution_count": 15,
   "metadata": {},
   "outputs": [],
   "source": [
    "def make_data(data, with_y=False):\n",
    "    X = data.copy()\n",
    "    X['mode'] = mode_encoder.transform(data['mode'])\n",
    "    X['stage'] = stage_encoder.transform(data['stage'])\n",
    "    for weapon_column in WEAPON_COLUMNS:\n",
    "        X[weapon_column + '-enc'] = weapon_encoder.transform(data[weapon_column])\n",
    "    for level_column in LEVEL_COLUMNS:\n",
    "        X[level_column + '-enc'] = data[level_column]\n",
    "    for rank_column in RANK_COLUMNS:\n",
    "        X[rank_column + '-enc'] = data[rank_column].apply(encode_rank)\n",
    "    for drop_column in DROP_COLUMNS + WEAPON_COLUMNS + LEVEL_COLUMNS + RANK_COLUMNS:\n",
    "        X = X.drop(drop_column, axis=1)\n",
    "    if with_y:\n",
    "        X = X.drop('y', axis=1)\n",
    "        y = data['y']\n",
    "        return X, y\n",
    "    return X"
   ]
  },
  {
   "cell_type": "code",
   "execution_count": 16,
   "metadata": {},
   "outputs": [],
   "source": [
    "train_X, train_y = make_data(train_data, with_y=True)"
   ]
  },
  {
   "cell_type": "code",
   "execution_count": 17,
   "metadata": {},
   "outputs": [],
   "source": [
    "test_X = make_data(test_data)"
   ]
  },
  {
   "cell_type": "code",
   "execution_count": 18,
   "metadata": {},
   "outputs": [
    {
     "data": {
      "text/html": [
       "<div>\n",
       "<style scoped>\n",
       "    .dataframe tbody tr th:only-of-type {\n",
       "        vertical-align: middle;\n",
       "    }\n",
       "\n",
       "    .dataframe tbody tr th {\n",
       "        vertical-align: top;\n",
       "    }\n",
       "\n",
       "    .dataframe thead th {\n",
       "        text-align: right;\n",
       "    }\n",
       "</style>\n",
       "<table border=\"1\" class=\"dataframe\">\n",
       "  <thead>\n",
       "    <tr style=\"text-align: right;\">\n",
       "      <th></th>\n",
       "      <th>mode</th>\n",
       "      <th>stage</th>\n",
       "      <th>A1-weapon-enc</th>\n",
       "      <th>A2-weapon-enc</th>\n",
       "      <th>A3-weapon-enc</th>\n",
       "      <th>A4-weapon-enc</th>\n",
       "      <th>B1-weapon-enc</th>\n",
       "      <th>B2-weapon-enc</th>\n",
       "      <th>B3-weapon-enc</th>\n",
       "      <th>B4-weapon-enc</th>\n",
       "      <th>...</th>\n",
       "      <th>B3-level-enc</th>\n",
       "      <th>B4-level-enc</th>\n",
       "      <th>A1-rank-enc</th>\n",
       "      <th>A2-rank-enc</th>\n",
       "      <th>A3-rank-enc</th>\n",
       "      <th>A4-rank-enc</th>\n",
       "      <th>B1-rank-enc</th>\n",
       "      <th>B2-rank-enc</th>\n",
       "      <th>B3-rank-enc</th>\n",
       "      <th>B4-rank-enc</th>\n",
       "    </tr>\n",
       "    <tr>\n",
       "      <th>id</th>\n",
       "      <th></th>\n",
       "      <th></th>\n",
       "      <th></th>\n",
       "      <th></th>\n",
       "      <th></th>\n",
       "      <th></th>\n",
       "      <th></th>\n",
       "      <th></th>\n",
       "      <th></th>\n",
       "      <th></th>\n",
       "      <th></th>\n",
       "      <th></th>\n",
       "      <th></th>\n",
       "      <th></th>\n",
       "      <th></th>\n",
       "      <th></th>\n",
       "      <th></th>\n",
       "      <th></th>\n",
       "      <th></th>\n",
       "      <th></th>\n",
       "      <th></th>\n",
       "    </tr>\n",
       "  </thead>\n",
       "  <tbody>\n",
       "    <tr>\n",
       "      <th>1</th>\n",
       "      <td>3</td>\n",
       "      <td>20</td>\n",
       "      <td>135</td>\n",
       "      <td>112</td>\n",
       "      <td>89</td>\n",
       "      <td>50</td>\n",
       "      <td>13</td>\n",
       "      <td>51</td>\n",
       "      <td>41</td>\n",
       "      <td>110</td>\n",
       "      <td>...</td>\n",
       "      <td>68.0</td>\n",
       "      <td>31.0</td>\n",
       "      <td>0</td>\n",
       "      <td>0</td>\n",
       "      <td>0</td>\n",
       "      <td>0</td>\n",
       "      <td>0</td>\n",
       "      <td>0</td>\n",
       "      <td>0</td>\n",
       "      <td>0</td>\n",
       "    </tr>\n",
       "    <tr>\n",
       "      <th>2</th>\n",
       "      <td>3</td>\n",
       "      <td>3</td>\n",
       "      <td>92</td>\n",
       "      <td>57</td>\n",
       "      <td>21</td>\n",
       "      <td>84</td>\n",
       "      <td>77</td>\n",
       "      <td>132</td>\n",
       "      <td>20</td>\n",
       "      <td>126</td>\n",
       "      <td>...</td>\n",
       "      <td>168.0</td>\n",
       "      <td>151.0</td>\n",
       "      <td>0</td>\n",
       "      <td>0</td>\n",
       "      <td>0</td>\n",
       "      <td>0</td>\n",
       "      <td>0</td>\n",
       "      <td>0</td>\n",
       "      <td>0</td>\n",
       "      <td>0</td>\n",
       "    </tr>\n",
       "    <tr>\n",
       "      <th>3</th>\n",
       "      <td>2</td>\n",
       "      <td>1</td>\n",
       "      <td>85</td>\n",
       "      <td>99</td>\n",
       "      <td>94</td>\n",
       "      <td>57</td>\n",
       "      <td>13</td>\n",
       "      <td>84</td>\n",
       "      <td>94</td>\n",
       "      <td>28</td>\n",
       "      <td>...</td>\n",
       "      <td>160.0</td>\n",
       "      <td>126.0</td>\n",
       "      <td>10</td>\n",
       "      <td>11</td>\n",
       "      <td>11</td>\n",
       "      <td>11</td>\n",
       "      <td>10</td>\n",
       "      <td>12</td>\n",
       "      <td>10</td>\n",
       "      <td>11</td>\n",
       "    </tr>\n",
       "    <tr>\n",
       "      <th>4</th>\n",
       "      <td>3</td>\n",
       "      <td>8</td>\n",
       "      <td>6</td>\n",
       "      <td>117</td>\n",
       "      <td>31</td>\n",
       "      <td>94</td>\n",
       "      <td>114</td>\n",
       "      <td>67</td>\n",
       "      <td>96</td>\n",
       "      <td>54</td>\n",
       "      <td>...</td>\n",
       "      <td>194.0</td>\n",
       "      <td>391.0</td>\n",
       "      <td>0</td>\n",
       "      <td>0</td>\n",
       "      <td>0</td>\n",
       "      <td>0</td>\n",
       "      <td>0</td>\n",
       "      <td>0</td>\n",
       "      <td>0</td>\n",
       "      <td>0</td>\n",
       "    </tr>\n",
       "    <tr>\n",
       "      <th>5</th>\n",
       "      <td>2</td>\n",
       "      <td>6</td>\n",
       "      <td>13</td>\n",
       "      <td>49</td>\n",
       "      <td>38</td>\n",
       "      <td>116</td>\n",
       "      <td>34</td>\n",
       "      <td>127</td>\n",
       "      <td>19</td>\n",
       "      <td>139</td>\n",
       "      <td>...</td>\n",
       "      <td>246.0</td>\n",
       "      <td>160.0</td>\n",
       "      <td>21</td>\n",
       "      <td>21</td>\n",
       "      <td>21</td>\n",
       "      <td>21</td>\n",
       "      <td>21</td>\n",
       "      <td>21</td>\n",
       "      <td>21</td>\n",
       "      <td>21</td>\n",
       "    </tr>\n",
       "  </tbody>\n",
       "</table>\n",
       "<p>5 rows × 26 columns</p>\n",
       "</div>"
      ],
      "text/plain": [
       "    mode  stage  A1-weapon-enc  A2-weapon-enc  A3-weapon-enc  A4-weapon-enc  \\\n",
       "id                                                                            \n",
       "1      3     20            135            112             89             50   \n",
       "2      3      3             92             57             21             84   \n",
       "3      2      1             85             99             94             57   \n",
       "4      3      8              6            117             31             94   \n",
       "5      2      6             13             49             38            116   \n",
       "\n",
       "    B1-weapon-enc  B2-weapon-enc  B3-weapon-enc  B4-weapon-enc  ...  \\\n",
       "id                                                              ...   \n",
       "1              13             51             41            110  ...   \n",
       "2              77            132             20            126  ...   \n",
       "3              13             84             94             28  ...   \n",
       "4             114             67             96             54  ...   \n",
       "5              34            127             19            139  ...   \n",
       "\n",
       "    B3-level-enc  B4-level-enc  A1-rank-enc  A2-rank-enc  A3-rank-enc  \\\n",
       "id                                                                      \n",
       "1           68.0          31.0            0            0            0   \n",
       "2          168.0         151.0            0            0            0   \n",
       "3          160.0         126.0           10           11           11   \n",
       "4          194.0         391.0            0            0            0   \n",
       "5          246.0         160.0           21           21           21   \n",
       "\n",
       "    A4-rank-enc  B1-rank-enc  B2-rank-enc  B3-rank-enc  B4-rank-enc  \n",
       "id                                                                   \n",
       "1             0            0            0            0            0  \n",
       "2             0            0            0            0            0  \n",
       "3            11           10           12           10           11  \n",
       "4             0            0            0            0            0  \n",
       "5            21           21           21           21           21  \n",
       "\n",
       "[5 rows x 26 columns]"
      ]
     },
     "execution_count": 18,
     "metadata": {},
     "output_type": "execute_result"
    }
   ],
   "source": [
    "train_X.head()"
   ]
  },
  {
   "cell_type": "code",
   "execution_count": 19,
   "metadata": {},
   "outputs": [
    {
     "data": {
      "text/plain": [
       "id\n",
       "1    0\n",
       "dtype: int64"
      ]
     },
     "execution_count": 19,
     "metadata": {},
     "output_type": "execute_result"
    }
   ],
   "source": [
    "make_rank_data(train_data[0:1], ['A1-rank', 'A2-rank', 'A3-rank', 'A4-rank'])"
   ]
  },
  {
   "cell_type": "markdown",
   "metadata": {},
   "source": [
    "## 学習"
   ]
  },
  {
   "cell_type": "code",
   "execution_count": 20,
   "metadata": {},
   "outputs": [],
   "source": [
    "import xgboost as xgb\n",
    "from sklearn.metrics import log_loss"
   ]
  },
  {
   "cell_type": "code",
   "execution_count": 21,
   "metadata": {},
   "outputs": [],
   "source": [
    "dtrain = xgb.DMatrix(train_X, label=train_y)"
   ]
  },
  {
   "cell_type": "code",
   "execution_count": 22,
   "metadata": {},
   "outputs": [],
   "source": [
    "params = {'objective': 'binary:logistic', 'random_state': 71}\n",
    "num_round = 1000"
   ]
  },
  {
   "cell_type": "code",
   "execution_count": 23,
   "metadata": {},
   "outputs": [],
   "source": [
    "model = xgb.train(params, dtrain, num_round)"
   ]
  },
  {
   "cell_type": "code",
   "execution_count": 24,
   "metadata": {},
   "outputs": [],
   "source": [
    "train_pred_proba = model.predict(dtrain)"
   ]
  },
  {
   "cell_type": "code",
   "execution_count": 25,
   "metadata": {},
   "outputs": [],
   "source": [
    "train_pred = np.where(train_pred_proba > 0.5, 1, 0)"
   ]
  },
  {
   "cell_type": "code",
   "execution_count": 26,
   "metadata": {},
   "outputs": [],
   "source": [
    "from sklearn.metrics import accuracy_score"
   ]
  },
  {
   "cell_type": "code",
   "execution_count": 27,
   "metadata": {},
   "outputs": [
    {
     "data": {
      "text/plain": [
       "0.9957353497164462"
      ]
     },
     "execution_count": 27,
     "metadata": {},
     "output_type": "execute_result"
    }
   ],
   "source": [
    "accuracy_score(train_y, train_pred)"
   ]
  },
  {
   "cell_type": "markdown",
   "metadata": {},
   "source": [
    "## テスト"
   ]
  },
  {
   "cell_type": "code",
   "execution_count": 28,
   "metadata": {},
   "outputs": [],
   "source": [
    "dtest = xgb.DMatrix(test_X)"
   ]
  },
  {
   "cell_type": "code",
   "execution_count": 29,
   "metadata": {},
   "outputs": [],
   "source": [
    "test_pred_proba = model.predict(dtest)"
   ]
  },
  {
   "cell_type": "code",
   "execution_count": 30,
   "metadata": {},
   "outputs": [],
   "source": [
    "test_pred = np.where(test_pred_proba > 0.5, 1, 0)"
   ]
  },
  {
   "cell_type": "code",
   "execution_count": 31,
   "metadata": {},
   "outputs": [],
   "source": [
    "submit_df = pd.DataFrame({'y': test_pred})\n",
    "submit_df.index.name = 'id'\n",
    "submit_df.to_csv('gbdt_submission.csv')"
   ]
  },
  {
   "cell_type": "code",
   "execution_count": null,
   "metadata": {},
   "outputs": [],
   "source": []
  },
  {
   "cell_type": "code",
   "execution_count": null,
   "metadata": {},
   "outputs": [],
   "source": []
  }
 ],
 "metadata": {
  "kernelspec": {
   "display_name": "Python 3",
   "language": "python",
   "name": "python3"
  },
  "language_info": {
   "codemirror_mode": {
    "name": "ipython",
    "version": 3
   },
   "file_extension": ".py",
   "mimetype": "text/x-python",
   "name": "python",
   "nbconvert_exporter": "python",
   "pygments_lexer": "ipython3",
   "version": "3.8.2"
  }
 },
 "nbformat": 4,
 "nbformat_minor": 4
}
